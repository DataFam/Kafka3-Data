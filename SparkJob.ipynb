{
 "cells": [
  {
   "cell_type": "code",
   "execution_count": 6,
   "id": "d1e85a45-3d78-47d8-899c-adf3fcff729c",
   "metadata": {},
   "outputs": [],
   "source": [
    "from pyspark.sql import SparkSession\n",
    "import sqlite3\n",
    "import pandas as pd"
   ]
  },
  {
   "cell_type": "code",
   "execution_count": 18,
   "id": "c71921a8-d412-4794-a26e-61c0faad9767",
   "metadata": {},
   "outputs": [],
   "source": [
    "conn = sqlite3.connect('bank.db')\n",
    "customer_pandas_df = pd.read_sql_query('SELECT * FROM customer', conn)\n",
    "transaction_pandas_df = pd.read_sql_query('SELECT * FROM \\'transaction\\'', conn)"
   ]
  },
  {
   "cell_type": "code",
   "execution_count": 21,
   "id": "f7944aa8-42ab-45a2-9ba3-3f1acf954d9e",
   "metadata": {},
   "outputs": [
    {
     "data": {
      "text/html": [
       "<div>\n",
       "<style scoped>\n",
       "    .dataframe tbody tr th:only-of-type {\n",
       "        vertical-align: middle;\n",
       "    }\n",
       "\n",
       "    .dataframe tbody tr th {\n",
       "        vertical-align: top;\n",
       "    }\n",
       "\n",
       "    .dataframe thead th {\n",
       "        text-align: right;\n",
       "    }\n",
       "</style>\n",
       "<table border=\"1\" class=\"dataframe\">\n",
       "  <thead>\n",
       "    <tr style=\"text-align: right;\">\n",
       "      <th></th>\n",
       "      <th>id</th>\n",
       "      <th>branchid</th>\n",
       "      <th>custid</th>\n",
       "      <th>type</th>\n",
       "      <th>date</th>\n",
       "      <th>amt</th>\n",
       "    </tr>\n",
       "  </thead>\n",
       "  <tbody>\n",
       "  </tbody>\n",
       "</table>\n",
       "</div>"
      ],
      "text/plain": [
       "Empty DataFrame\n",
       "Columns: [id, branchid, custid, type, date, amt]\n",
       "Index: []"
      ]
     },
     "execution_count": 21,
     "metadata": {},
     "output_type": "execute_result"
    }
   ],
   "source": [
    "transaction_pandas_df.head(3)"
   ]
  },
  {
   "cell_type": "code",
   "execution_count": 12,
   "id": "ca73ad14-7642-4103-a2db-cbf67b8dcf7d",
   "metadata": {},
   "outputs": [],
   "source": [
    "spark = SparkSession.builder.appName('test').getOrCreate()"
   ]
  },
  {
   "cell_type": "markdown",
   "id": "9b74b5a2-7f39-4114-8a04-089428c44719",
   "metadata": {},
   "source": [
    "## Spark EDA\n",
    "\n",
    "- richest customer\n",
    "\n",
    "- poorest customer\n",
    "\n",
    "- richest customer’s favorite branch\n",
    "\n",
    "- poorest customer’s favorite branch\n",
    "\n",
    "- net total of each branch"
   ]
  },
  {
   "cell_type": "code",
   "execution_count": 14,
   "id": "371b19d8-6754-42e3-a689-811ed6a54f3c",
   "metadata": {},
   "outputs": [],
   "source": [
    "spark_df = spark.createDataFrame(a_pandas_df)"
   ]
  },
  {
   "cell_type": "code",
   "execution_count": 22,
   "id": "4c3f3ebc-8756-47bb-bb1f-0522344d7c0b",
   "metadata": {},
   "outputs": [
    {
     "name": "stdout",
     "output_type": "stream",
     "text": [
      "+------+----------+-----+------+-------+\n",
      "|custid|createdate|fname| lname|balance|\n",
      "+------+----------+-----+------+-------+\n",
      "|    13|1629056953| Leon|Burton|    0.0|\n",
      "+------+----------+-----+------+-------+\n",
      "only showing top 1 row\n",
      "\n"
     ]
    }
   ],
   "source": [
    "spark_df.sort('balance', ascending=False).show(1)"
   ]
  },
  {
   "cell_type": "code",
   "execution_count": null,
   "id": "1c01732d-3e7c-4119-b6e0-7966e812d5e6",
   "metadata": {},
   "outputs": [],
   "source": []
  }
 ],
 "metadata": {
  "kernelspec": {
   "display_name": "Python 3",
   "language": "python",
   "name": "python3"
  },
  "language_info": {
   "codemirror_mode": {
    "name": "ipython",
    "version": 3
   },
   "file_extension": ".py",
   "mimetype": "text/x-python",
   "name": "python",
   "nbconvert_exporter": "python",
   "pygments_lexer": "ipython3",
   "version": "3.9.6"
  }
 },
 "nbformat": 4,
 "nbformat_minor": 5
}
