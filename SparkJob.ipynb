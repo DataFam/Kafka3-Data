{
 "cells": [
  {
   "cell_type": "code",
   "execution_count": 1,
   "id": "d1e85a45-3d78-47d8-899c-adf3fcff729c",
   "metadata": {},
   "outputs": [],
   "source": [
    "from pyspark.sql import SparkSession\n",
    "from pyspark.sql.functions import *\n",
    "import sqlite3\n",
    "import pandas as pd"
   ]
  },
  {
   "cell_type": "code",
   "execution_count": 10,
   "id": "c71921a8-d412-4794-a26e-61c0faad9767",
   "metadata": {},
   "outputs": [],
   "source": [
    "conn = sqlite3.connect('bank.db')\n",
    "customer_pandas_df = pd.read_sql_query('SELECT * FROM customer', conn)\n",
    "transaction_pandas_df = pd.read_sql_query('SELECT * FROM \"transaction\"', conn)"
   ]
  },
  {
   "cell_type": "code",
   "execution_count": 11,
   "id": "f7944aa8-42ab-45a2-9ba3-3f1acf954d9e",
   "metadata": {},
   "outputs": [
    {
     "data": {
      "text/html": [
       "<div>\n",
       "<style scoped>\n",
       "    .dataframe tbody tr th:only-of-type {\n",
       "        vertical-align: middle;\n",
       "    }\n",
       "\n",
       "    .dataframe tbody tr th {\n",
       "        vertical-align: top;\n",
       "    }\n",
       "\n",
       "    .dataframe thead th {\n",
       "        text-align: right;\n",
       "    }\n",
       "</style>\n",
       "<table border=\"1\" class=\"dataframe\">\n",
       "  <thead>\n",
       "    <tr style=\"text-align: right;\">\n",
       "      <th></th>\n",
       "      <th>id</th>\n",
       "      <th>branchid</th>\n",
       "      <th>custid</th>\n",
       "      <th>type</th>\n",
       "      <th>date</th>\n",
       "      <th>amt</th>\n",
       "    </tr>\n",
       "  </thead>\n",
       "  <tbody>\n",
       "    <tr>\n",
       "      <th>0</th>\n",
       "      <td>1</td>\n",
       "      <td>3</td>\n",
       "      <td>26</td>\n",
       "      <td>wth</td>\n",
       "      <td>1629068862</td>\n",
       "      <td>9800</td>\n",
       "    </tr>\n",
       "    <tr>\n",
       "      <th>1</th>\n",
       "      <td>2</td>\n",
       "      <td>3</td>\n",
       "      <td>2</td>\n",
       "      <td>wth</td>\n",
       "      <td>1629068862</td>\n",
       "      <td>1100</td>\n",
       "    </tr>\n",
       "    <tr>\n",
       "      <th>2</th>\n",
       "      <td>3</td>\n",
       "      <td>3</td>\n",
       "      <td>17</td>\n",
       "      <td>dep</td>\n",
       "      <td>1629068862</td>\n",
       "      <td>4300</td>\n",
       "    </tr>\n",
       "    <tr>\n",
       "      <th>3</th>\n",
       "      <td>4</td>\n",
       "      <td>3</td>\n",
       "      <td>5</td>\n",
       "      <td>wth</td>\n",
       "      <td>1629068862</td>\n",
       "      <td>4100</td>\n",
       "    </tr>\n",
       "  </tbody>\n",
       "</table>\n",
       "</div>"
      ],
      "text/plain": [
       "   id  branchid  custid type        date   amt\n",
       "0   1         3      26  wth  1629068862  9800\n",
       "1   2         3       2  wth  1629068862  1100\n",
       "2   3         3      17  dep  1629068862  4300\n",
       "3   4         3       5  wth  1629068862  4100"
      ]
     },
     "execution_count": 11,
     "metadata": {},
     "output_type": "execute_result"
    }
   ],
   "source": [
    "transaction_pandas_df.head(4)"
   ]
  },
  {
   "cell_type": "code",
   "execution_count": 12,
   "id": "ca73ad14-7642-4103-a2db-cbf67b8dcf7d",
   "metadata": {},
   "outputs": [],
   "source": [
    "spark = SparkSession.builder.appName('test').getOrCreate()"
   ]
  },
  {
   "cell_type": "markdown",
   "id": "9b74b5a2-7f39-4114-8a04-089428c44719",
   "metadata": {},
   "source": [
    "## Spark EDA\n",
    "\n",
    "- richest customer\n",
    "\n",
    "- poorest customer\n",
    "\n",
    "- richest customer’s favorite branch\n",
    "\n",
    "- poorest customer’s favorite branch\n",
    "\n",
    "- net total of each branch"
   ]
  },
  {
   "cell_type": "code",
   "execution_count": 13,
   "id": "371b19d8-6754-42e3-a689-811ed6a54f3c",
   "metadata": {},
   "outputs": [],
   "source": [
    "customer_spark_df = spark.createDataFrame(customer_pandas_df)"
   ]
  },
  {
   "cell_type": "code",
   "execution_count": 14,
   "id": "30665b86-c6f4-4eca-ac01-9191eab2bb48",
   "metadata": {},
   "outputs": [],
   "source": [
    "transaction_spark_df = spark.createDataFrame(transaction_pandas_df)"
   ]
  },
  {
   "cell_type": "markdown",
   "id": "9a3c8f84-2bdd-4f0a-9891-c766a22a3e5b",
   "metadata": {},
   "source": [
    "### richest customer"
   ]
  },
  {
   "cell_type": "code",
   "execution_count": 15,
   "id": "4c3f3ebc-8756-47bb-bb1f-0522344d7c0b",
   "metadata": {},
   "outputs": [],
   "source": [
    "richest_customer = customer_spark_df.sort('balance', ascending=False)"
   ]
  },
  {
   "cell_type": "code",
   "execution_count": 16,
   "id": "6cc9f6f9-7ab4-4888-9203-871ffd715969",
   "metadata": {
    "tags": []
   },
   "outputs": [
    {
     "name": "stdout",
     "output_type": "stream",
     "text": [
      "+------+----------+----------+-----+-------+\n",
      "|custid|createdate|     fname|lname|balance|\n",
      "+------+----------+----------+-----+-------+\n",
      "|    13|1629076179|Kristopher|Kelly|77100.0|\n",
      "+------+----------+----------+-----+-------+\n",
      "only showing top 1 row\n",
      "\n"
     ]
    }
   ],
   "source": [
    "richest_customer.show(1)"
   ]
  },
  {
   "cell_type": "code",
   "execution_count": 17,
   "id": "2df770ec-7467-44ab-8c8e-e81feae0eb6c",
   "metadata": {},
   "outputs": [],
   "source": [
    "richest_customer_id = richest_customer.select('custid')"
   ]
  },
  {
   "cell_type": "code",
   "execution_count": 18,
   "id": "f1f11580-6c10-4a3b-84b7-fc1ee345b35c",
   "metadata": {},
   "outputs": [],
   "source": [
    "richest_customer_id = richest_customer_id.head()[0]"
   ]
  },
  {
   "cell_type": "markdown",
   "id": "b362ccf2-a908-44ec-a826-76d6178922d1",
   "metadata": {},
   "source": [
    "### poorest customer"
   ]
  },
  {
   "cell_type": "code",
   "execution_count": 19,
   "id": "e7a42e23-686b-4e9a-92dc-87ad83de96ab",
   "metadata": {},
   "outputs": [],
   "source": [
    "poorest_customer = customer_spark_df.sort('balance')"
   ]
  },
  {
   "cell_type": "code",
   "execution_count": 20,
   "id": "564045cf-45d9-43e4-9374-ee2806d6118b",
   "metadata": {},
   "outputs": [],
   "source": [
    "poorest_customer_id = poorest_customer.select('custid')"
   ]
  },
  {
   "cell_type": "code",
   "execution_count": 21,
   "id": "9c7e589e-504b-4099-845c-50ab9bc03563",
   "metadata": {},
   "outputs": [],
   "source": [
    "poorest_customer_id = poorest_customer.head()[0]"
   ]
  },
  {
   "cell_type": "code",
   "execution_count": 22,
   "id": "8fd20120-8fb9-4af1-ae6b-04b78a36dc0e",
   "metadata": {},
   "outputs": [
    {
     "name": "stdout",
     "output_type": "stream",
     "text": [
      "+------+----------+-----+------+---------+\n",
      "|custid|createdate|fname| lname|  balance|\n",
      "+------+----------+-----+------+---------+\n",
      "|     7|1629076177| Sean|Burton|-245700.0|\n",
      "+------+----------+-----+------+---------+\n",
      "only showing top 1 row\n",
      "\n"
     ]
    }
   ],
   "source": [
    "customer_spark_df.sort('balance').show(1)"
   ]
  },
  {
   "cell_type": "markdown",
   "id": "8edb3ad6-b8cf-4f00-94a1-9cdc70eda0ad",
   "metadata": {},
   "source": [
    "### richest customer’s favorite branch"
   ]
  },
  {
   "cell_type": "code",
   "execution_count": 23,
   "id": "c4a39117-9d28-445a-8a1f-70b2e28ff5db",
   "metadata": {},
   "outputs": [],
   "source": [
    "customers_and_transactions = customer_spark_df.join(transaction_spark_df, on='custid')"
   ]
  },
  {
   "cell_type": "code",
   "execution_count": 24,
   "id": "62834bf6-a118-4095-a911-18af6fc1679a",
   "metadata": {},
   "outputs": [],
   "source": [
    "richest_cust_transactions = customers_and_transactions.filter(customers_and_transactions['custid'] == richest_customer_id)"
   ]
  },
  {
   "cell_type": "code",
   "execution_count": 25,
   "id": "27f93439-4cf3-4ed1-857d-8fbfdb17bef7",
   "metadata": {},
   "outputs": [
    {
     "name": "stdout",
     "output_type": "stream",
     "text": [
      "+------+--------+-----+\n",
      "|custid|branchid|count|\n",
      "+------+--------+-----+\n",
      "|    13|       3|  110|\n",
      "+------+--------+-----+\n",
      "only showing top 1 row\n",
      "\n"
     ]
    }
   ],
   "source": [
    "richest_cust_transactions.groupBy('custid', 'branchid').count().orderBy('count', ascending=False).show(1)"
   ]
  },
  {
   "cell_type": "markdown",
   "id": "a8aff956-23e7-4b44-bcd5-23dc0af146e8",
   "metadata": {},
   "source": [
    "### poorest customer’s favorite branch"
   ]
  },
  {
   "cell_type": "code",
   "execution_count": 26,
   "id": "b44f780f-6915-48a9-9a03-2ac259524860",
   "metadata": {},
   "outputs": [],
   "source": [
    "poorest_cust_transactions = customers_and_transactions.filter(customers_and_transactions['custid'] == poorest_customer_id)"
   ]
  },
  {
   "cell_type": "code",
   "execution_count": 27,
   "id": "bd85d89e-06e4-47f8-aa73-7551256a0786",
   "metadata": {},
   "outputs": [
    {
     "name": "stdout",
     "output_type": "stream",
     "text": [
      "+------+--------+-----+\n",
      "|custid|branchid|count|\n",
      "+------+--------+-----+\n",
      "|     7|       3|  109|\n",
      "+------+--------+-----+\n",
      "only showing top 1 row\n",
      "\n"
     ]
    }
   ],
   "source": [
    "poorest_cust_transactions.groupBy('custid', 'branchid').count().orderBy('count', ascending=False).show(1)"
   ]
  },
  {
   "cell_type": "markdown",
   "id": "9a5d2f08-77b9-4778-9503-41ba54c1fc4a",
   "metadata": {},
   "source": [
    "### net total of each branch"
   ]
  },
  {
   "cell_type": "code",
   "execution_count": 28,
   "id": "a5eda09d-0c2b-4d2a-ad57-342e53659ede",
   "metadata": {},
   "outputs": [
    {
     "name": "stdout",
     "output_type": "stream",
     "text": [
      "+--------+--------+\n",
      "|branchid|sum(amt)|\n",
      "+--------+--------+\n",
      "|       1| 1819800|\n",
      "|       3| 1483600|\n",
      "|       2| -460000|\n",
      "+--------+--------+\n",
      "\n"
     ]
    }
   ],
   "source": [
    "transaction_spark_df.groupBy('branchid').sum('amt').show()"
   ]
  },
  {
   "cell_type": "code",
   "execution_count": null,
   "id": "c5b93c37-02d8-4819-9a30-ac2c8a75fdc1",
   "metadata": {},
   "outputs": [],
   "source": []
  }
 ],
 "metadata": {
  "kernelspec": {
   "display_name": "Python 3",
   "language": "python",
   "name": "python3"
  },
  "language_info": {
   "codemirror_mode": {
    "name": "ipython",
    "version": 3
   },
   "file_extension": ".py",
   "mimetype": "text/x-python",
   "name": "python",
   "nbconvert_exporter": "python",
   "pygments_lexer": "ipython3",
   "version": "3.9.6"
  }
 },
 "nbformat": 4,
 "nbformat_minor": 5
}
